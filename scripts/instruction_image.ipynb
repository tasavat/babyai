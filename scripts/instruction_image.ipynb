{
 "cells": [
  {
   "cell_type": "code",
   "execution_count": null,
   "metadata": {},
   "outputs": [],
   "source": [
    "%load_ext autoreload\n",
    "%autoreload 2"
   ]
  },
  {
   "cell_type": "code",
   "execution_count": null,
   "metadata": {},
   "outputs": [],
   "source": [
    "import os\n",
    "import logging\n",
    "import csv\n",
    "import json\n",
    "import gym\n",
    "import time\n",
    "import datetime\n",
    "import torch\n",
    "import numpy as np\n",
    "import subprocess\n",
    "\n",
    "import babyai\n",
    "import babyai.utils as utils\n",
    "import babyai.rl\n",
    "# from babyai.arguments import ArgumentParser\n",
    "from babyai.model import ACModel\n",
    "from babyai.evaluate import batch_evaluate\n",
    "from babyai.utils.agent import ModelAgent\n",
    "from collections import Counter"
   ]
  },
  {
   "cell_type": "code",
   "execution_count": null,
   "metadata": {},
   "outputs": [],
   "source": [
    "args = {\n",
    "    'seed': 666,  # seed for generate instruction images \n",
    "    'procs': 1,\n",
    "    'env': \"BabyAI-PickupLocTemplate-v0\",\n",
    "    'instr_arch': 'gru',\n",
    "    'no-mem': False,\n",
    "    'algo': 'ppo',\n",
    "    'arch': 'expert_filmcnn',\n",
    "    'pretrained_model': \"BabyAI-PickupLoc-v0_template\",\n",
    "    'model': None,\n",
    "}\n",
    "\n",
    "utils.seed(args['seed'])"
   ]
  },
  {
   "cell_type": "markdown",
   "metadata": {
    "pycharm": {
     "name": "#%% md\n"
    }
   },
   "source": [
    "##### Environment"
   ]
  },
  {
   "cell_type": "code",
   "execution_count": null,
   "metadata": {},
   "outputs": [],
   "source": [
    "simulated_env = gym.make(args['env'])\n",
    "simulated_obs = None"
   ]
  },
  {
   "cell_type": "markdown",
   "metadata": {},
   "source": [
    "##### Obsspreprocessor"
   ]
  },
  {
   "cell_type": "code",
   "execution_count": null,
   "metadata": {},
   "outputs": [],
   "source": [
    "obss_preprocessor = utils.ObssPreprocessor(args['pretrained_model'], None)"
   ]
  },
  {
   "cell_type": "markdown",
   "metadata": {},
   "source": [
    "##### Pretrained agent"
   ]
  },
  {
   "cell_type": "code",
   "execution_count": null,
   "metadata": {},
   "outputs": [],
   "source": [
    "pretrained_agent = utils.load_model(args['pretrained_model'], raise_not_found=True)\n",
    "pretrained_agent.eval()"
   ]
  },
  {
   "cell_type": "markdown",
   "metadata": {},
   "source": [
    "##### Image generation"
   ]
  },
  {
   "cell_type": "code",
   "execution_count": null,
   "metadata": {},
   "outputs": [],
   "source": [
    "def full_obs(env):\n",
    "    full_obs = env.grid.encode()\n",
    "\n",
    "    # numeric encoding\n",
    "    full_obs[env.agent_pos[0]][env.agent_pos[1]] = np.array([\n",
    "        10,\n",
    "        0,\n",
    "        env.agent_dir\n",
    "    ])\n",
    "\n",
    "    # one-hot encoding\n",
    "    full_obs_oh = np.zeros((full_obs.shape[0], full_obs.shape[1], 21))\n",
    "    channel_start_index = {0: 0, 1:11, 2:17}\n",
    "\n",
    "    visited_block = set()\n",
    "    for x in range(full_obs.shape[0]):\n",
    "        for y in range(full_obs.shape[1]):\n",
    "            for ch in range(full_obs.shape[2]):\n",
    "                value = full_obs[x][y][ch]\n",
    "                full_obs_oh[x][y][channel_start_index[ch] + value] = 1\n",
    "\n",
    "    return full_obs_oh"
   ]
  },
  {
   "cell_type": "code",
   "execution_count": null,
   "metadata": {},
   "outputs": [],
   "source": [
    "def rgb_obs(env):\n",
    "    rgb_img = env.render(\n",
    "        mode='rgb_array',\n",
    "        highlight=False,\n",
    "        tile_size=8\n",
    "    )\n",
    "\n",
    "    return rgb_img"
   ]
  },
  {
   "cell_type": "code",
   "execution_count": null,
   "metadata": {},
   "outputs": [],
   "source": [
    "from gym_minigrid.window import Window\n",
    "def redraw(env):\n",
    "    img = env.render('rgb_array', tile_size=32)\n",
    "    window.show_img(img)"
   ]
  },
  {
   "cell_type": "code",
   "execution_count": null,
   "metadata": {},
   "outputs": [],
   "source": [
    "device='cuda'\n",
    "visited_mission = Counter()"
   ]
  },
  {
   "cell_type": "code",
   "execution_count": null,
   "metadata": {
    "scrolled": true
   },
   "outputs": [],
   "source": [
    "for _ in range(1000000):\n",
    "    simulated_obs = simulated_env.reset()\n",
    "    mission = simulated_obs['mission']\n",
    "    \n",
    "    # limit maximum number of template observation\n",
    "    if mission in visited_mission and visited_mission[mission] >= 100:\n",
    "        continue\n",
    "\n",
    "    # print(mission)\n",
    "    # window = Window('gym_minigrid - ' + args['env'])\n",
    "    # redraw(simulated_env)\n",
    "\n",
    "    img_instr = []\n",
    "    img_instr.append(full_obs(simulated_env))\n",
    "\n",
    "    # simulate until done\n",
    "    memory = torch.zeros(1, pretrained_agent.memory_size, device=device)\n",
    "    mask = torch.ones(1, device=device)\n",
    "    done = False\n",
    "    while not done:\n",
    "        preprocessed_obs = obss_preprocessor([simulated_obs], device=device)\n",
    "        with torch.no_grad():\n",
    "            model_results = pretrained_agent(preprocessed_obs, memory * mask.unsqueeze(1))\n",
    "            dist = model_results['dist']\n",
    "            memory_ = model_results['memory']\n",
    "        action = dist.sample()\n",
    "        obs, reward, done, env_info = simulated_env.step(action.cpu().numpy())\n",
    "\n",
    "        simulated_obs = obs\n",
    "        memory = memory_\n",
    "        mask = 1 - torch.tensor(done, device=device, dtype=torch.float)\n",
    "        mask = torch.reshape(mask, (1,))\n",
    "\n",
    "        if done:\n",
    "            # print(f'done. reward={reward:.2f}')\n",
    "            img_instr.append(full_obs(simulated_env))\n",
    "\n",
    "    # window = Window('gym_minigrid - ' + args['env'])\n",
    "    # redraw(simulated_env)\n",
    "\n",
    "    img_instr = np.stack(img_instr, axis=0)\n",
    "    \n",
    "    if reward > 0:\n",
    "        visited_mission[mission] += 1\n",
    "        \n",
    "        if not os.path.exists(f'instruction_images/{mission}'):\n",
    "            os.makedirs(f'instruction_images/{mission}')\n",
    "        np.save(f'instruction_images/{mission}/{visited_mission[mission]}.npy', img_instr)\n",
    "        \n",
    "        print(f\"save image for \\'{mission}\\': {visited_mission[mission]}/100\")"
   ]
  },
  {
   "cell_type": "code",
   "execution_count": null,
   "metadata": {},
   "outputs": [],
   "source": []
  },
  {
   "cell_type": "markdown",
   "metadata": {},
   "source": [
    "### Combine multiple images"
   ]
  },
  {
   "cell_type": "code",
   "execution_count": null,
   "metadata": {},
   "outputs": [],
   "source": [
    "import os\n",
    "import numpy as np"
   ]
  },
  {
   "cell_type": "code",
   "execution_count": null,
   "metadata": {},
   "outputs": [],
   "source": [
    "inst_dirs = os.listdir(\"instruction_images\")\n",
    "inst_dirs[0]"
   ]
  },
  {
   "cell_type": "code",
   "execution_count": null,
   "metadata": {
    "scrolled": true
   },
   "outputs": [],
   "source": [
    "%%time\n",
    "for instr_dir in inst_dirs:\n",
    "    files = os.listdir(f\"instruction_images/{instr_dir}\")\n",
    "    cnt = 1\n",
    "    for i, file in enumerate(files):\n",
    "        for j, file in enumerate(files):\n",
    "            if i == j:\n",
    "                continue\n",
    "                \n",
    "            im1 = np.load(f\"instruction_images/{instr_dir}/{file}\")\n",
    "            im2 = np.load(f\"instruction_images/{instr_dir}/{file}\")\n",
    "            im_cat = np.concatenate([im1, im2], axis=-1)\n",
    "            \n",
    "            if not os.path.exists(f\"instruction_images_multiple/{instr_dir}\"):\n",
    "                os.mkdir(f\"instruction_images_multiple/{instr_dir}\")\n",
    "            np.save(f\"instruction_images_multiple/{instr_dir}/{cnt}.npy\", im_cat)\n",
    "            print(f\"{instr_dir}/{cnt}.npy\")\n",
    "            cnt += 1"
   ]
  },
  {
   "cell_type": "code",
   "execution_count": null,
   "metadata": {},
   "outputs": [],
   "source": []
  }
 ],
 "metadata": {
  "kernelspec": {
   "display_name": "Python 3",
   "language": "python",
   "name": "python3"
  },
  "language_info": {
   "codemirror_mode": {
    "name": "ipython",
    "version": 3
   },
   "file_extension": ".py",
   "mimetype": "text/x-python",
   "name": "python",
   "nbconvert_exporter": "python",
   "pygments_lexer": "ipython3",
   "version": "3.6.10"
  }
 },
 "nbformat": 4,
 "nbformat_minor": 4
}
